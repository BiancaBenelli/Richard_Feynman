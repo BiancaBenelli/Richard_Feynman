{
 "cells": [
  {
   "cell_type": "code",
   "execution_count": 10,
   "metadata": {},
   "outputs": [],
   "source": [
    "import numpy as np \n",
    "import random\n",
    "import math"
   ]
  },
  {
   "cell_type": "code",
   "execution_count": 2,
   "metadata": {},
   "outputs": [],
   "source": [
    "# Set a seed\n",
    "random.seed(47) \n",
    "# Generate n nodes\n",
    "def generate_nodes(n):\n",
    "    nodes = []\n",
    "    for x in range(1, n+1):\n",
    "        for y in range(1, n+1):\n",
    "            status = random.choice([0, 1])\n",
    "            life_around = 0\n",
    "            time = 0\n",
    "            nodes.append([x, y, status, life_around, time])\n",
    "    return nodes\n",
    "\n",
    "nodes = generate_nodes(3)"
   ]
  },
  {
   "cell_type": "code",
   "execution_count": 3,
   "metadata": {},
   "outputs": [],
   "source": [
    "nodes = np.array(nodes)\n",
    "numb_nodes = int(math.sqrt(nodes.shape[0]))"
   ]
  },
  {
   "cell_type": "markdown",
   "metadata": {},
   "source": [
    "# Problem A"
   ]
  },
  {
   "cell_type": "markdown",
   "metadata": {},
   "source": [
    "## Status and Life around matrixes"
   ]
  },
  {
   "cell_type": "code",
   "execution_count": 4,
   "metadata": {},
   "outputs": [
    {
     "data": {
      "text/plain": [
       "array([[0, 0, 0, 0, 0],\n",
       "       [0, 1, 0, 1, 0],\n",
       "       [0, 1, 1, 1, 0],\n",
       "       [0, 1, 1, 0, 0],\n",
       "       [0, 0, 0, 0, 0]])"
      ]
     },
     "execution_count": 4,
     "metadata": {},
     "output_type": "execute_result"
    }
   ],
   "source": [
    "def get_status(nodes):\n",
    "    # +2 is to have zeroes as the borders\n",
    "    matrix_status = np.zeros((numb_nodes+2, numb_nodes+2), dtype=int)\n",
    "    for node in nodes:\n",
    "        x, y, status, life_around, time = node\n",
    "        matrix_status[x][y] = status\n",
    "    return matrix_status\n",
    "\n",
    "matrix_status = get_status(nodes)\n",
    "matrix_status"
   ]
  },
  {
   "cell_type": "code",
   "execution_count": 5,
   "metadata": {},
   "outputs": [
    {
     "data": {
      "text/plain": [
       "array([[0, 0, 0, 0, 0],\n",
       "       [0, 2, 5, 2, 0],\n",
       "       [0, 4, 6, 3, 0],\n",
       "       [0, 3, 4, 3, 0],\n",
       "       [0, 0, 0, 0, 0]])"
      ]
     },
     "execution_count": 5,
     "metadata": {},
     "output_type": "execute_result"
    }
   ],
   "source": [
    "def get_life_around(nodes, matrix_status):\n",
    "    matrix_life_around = np.zeros((numb_nodes+2, numb_nodes+2), dtype=int)\n",
    "    for node in nodes:\n",
    "        x, y, status, life_around, time = node\n",
    "        # To consider the 8 nodes(=neighbours) around the current node I set this range\n",
    "        for i in range(x-1, x+2):\n",
    "            for j in range(y-1, y+2):\n",
    "                # Skip the current node\n",
    "                if i == x and j == y:\n",
    "                    continue\n",
    "                if matrix_status[i][j] == 1:\n",
    "                    matrix_life_around[x][y] += 1\n",
    "    return matrix_life_around\n",
    "\n",
    "matrix_life_around = get_life_around(nodes, matrix_status)\n",
    "matrix_life_around"
   ]
  },
  {
   "cell_type": "markdown",
   "metadata": {},
   "source": [
    "## Evolution function"
   ]
  },
  {
   "cell_type": "code",
   "execution_count": 12,
   "metadata": {},
   "outputs": [
    {
     "data": {
      "text/plain": [
       "(array([[0, 0, 0, 0, 0],\n",
       "        [0, 1, 0, 1, 0],\n",
       "        [0, 0, 0, 1, 0],\n",
       "        [0, 1, 0, 1, 0],\n",
       "        [0, 0, 0, 0, 0]]),\n",
       " array([[0, 0, 0, 0, 0],\n",
       "        [0, 0, 3, 1, 0],\n",
       "        [0, 2, 5, 2, 0],\n",
       "        [0, 0, 3, 1, 0],\n",
       "        [0, 0, 0, 0, 0]]),\n",
       " array([[1, 1, 1, 0, 1],\n",
       "        [1, 2, 0, 0, 1],\n",
       "        [1, 3, 1, 0, 1],\n",
       "        [2, 1, 1, 0, 1],\n",
       "        [2, 2, 1, 0, 1],\n",
       "        [2, 3, 1, 0, 1],\n",
       "        [3, 1, 1, 0, 1],\n",
       "        [3, 2, 1, 0, 1],\n",
       "        [3, 3, 0, 0, 1]]))"
      ]
     },
     "execution_count": 12,
     "metadata": {},
     "output_type": "execute_result"
    }
   ],
   "source": [
    "def dynamic_system(my_nodes, n_steps):\n",
    "    # Create a copy of the original nodes\n",
    "    new_nodes = np.copy(my_nodes)\n",
    "    matrix_status = get_status(my_nodes)\n",
    "    matrix_life_around = get_life_around(my_nodes, matrix_status)\n",
    "    for step in range(n_steps):\n",
    "        # To avoid the zeros of the boundary (they aren't nodes) I set this range\n",
    "        for i in range(1, len(matrix_status) - 1):\n",
    "           for j in range(1, len(matrix_status) - 1):\n",
    "                if matrix_status[i][j] == 1:\n",
    "                    if matrix_life_around[i][j] < 2 or matrix_life_around[i][j] > 3:\n",
    "                        matrix_status[i][j] = 0\n",
    "                else:\n",
    "                    if matrix_life_around[i][j] == 3:\n",
    "                        matrix_status[i][j] = 1\n",
    "        # Create a new matrix_life_around with the new matrix_status\n",
    "        matrix_life_around = get_life_around(my_nodes, matrix_status)\n",
    "        # Update the time of the nodes\n",
    "        new_nodes[:, 4] += 1\n",
    "    return matrix_status, matrix_life_around, new_nodes\n",
    "\n",
    "dynamic_system(nodes, 1)"
   ]
  },
  {
   "cell_type": "markdown",
   "metadata": {},
   "source": [
    "# Problem B"
   ]
  },
  {
   "cell_type": "markdown",
   "metadata": {},
   "source": [
    "## Status and Life around matrixes"
   ]
  },
  {
   "cell_type": "code",
   "execution_count": 7,
   "metadata": {},
   "outputs": [
    {
     "data": {
      "text/plain": [
       "array([[1, 0, 1],\n",
       "       [1, 1, 1],\n",
       "       [1, 1, 0]])"
      ]
     },
     "execution_count": 7,
     "metadata": {},
     "output_type": "execute_result"
    }
   ],
   "source": [
    "def get_status_b(nodes):\n",
    "    matrix_status = np.zeros((numb_nodes, numb_nodes), dtype=int)\n",
    "    for node in nodes:\n",
    "        x, y, status, life_around, time = node\n",
    "        matrix_status[x-1][y-1] = status\n",
    "    return matrix_status\n",
    "\n",
    "matrix_status = get_status_b(nodes)\n",
    "matrix_status"
   ]
  },
  {
   "cell_type": "code",
   "execution_count": 8,
   "metadata": {},
   "outputs": [
    {
     "data": {
      "text/plain": [
       "array([[2, 5, 2],\n",
       "       [4, 6, 3],\n",
       "       [3, 4, 3]])"
      ]
     },
     "execution_count": 8,
     "metadata": {},
     "output_type": "execute_result"
    }
   ],
   "source": [
    "def get_life_around_b(nodes, matrix_status):\n",
    "    matrix_life_around = np.zeros((numb_nodes, numb_nodes), dtype=int)\n",
    "    for node in nodes:\n",
    "        x, y, status, life_around, time = node\n",
    "        for i in range(x-1, x+2):\n",
    "            for j in range(y-1, y+2):\n",
    "                # To keep into account that the nodes at the borders don't have 8 neighbours, I add 2 if statements\n",
    "                if i == 0 or j == 0:\n",
    "                    continue\n",
    "                if i > numb_nodes or j > numb_nodes:\n",
    "                    continue\n",
    "                #Skip the current node, I want to count the neighbours only\n",
    "                if i == x and j == y:\n",
    "                    continue\n",
    "                if matrix_status[i-1][j-1] == 1:\n",
    "                    matrix_life_around[x-1][y-1] += 1\n",
    "    return matrix_life_around\n",
    "\n",
    "matrix_life_around = get_life_around_b(nodes, matrix_status)\n",
    "matrix_life_around"
   ]
  },
  {
   "cell_type": "code",
   "execution_count": 9,
   "metadata": {},
   "outputs": [
    {
     "data": {
      "text/plain": [
       "(array([[1, 0, 1],\n",
       "        [0, 0, 1],\n",
       "        [1, 0, 1]]),\n",
       " array([[0, 3, 1],\n",
       "        [2, 5, 2],\n",
       "        [0, 3, 1]]),\n",
       " array([[1, 1, 1, 0, 1],\n",
       "        [1, 2, 0, 0, 1],\n",
       "        [1, 3, 1, 0, 1],\n",
       "        [2, 1, 1, 0, 1],\n",
       "        [2, 2, 1, 0, 1],\n",
       "        [2, 3, 1, 0, 1],\n",
       "        [3, 1, 1, 0, 1],\n",
       "        [3, 2, 1, 0, 1],\n",
       "        [3, 3, 0, 0, 1]]))"
      ]
     },
     "execution_count": 9,
     "metadata": {},
     "output_type": "execute_result"
    }
   ],
   "source": [
    "def dynamic_system_b(my_nodes, n_steps):\n",
    "    # Create a copy of the original nodes\n",
    "    new_nodes = np.copy(my_nodes)\n",
    "    matrix_status = get_status_b(my_nodes)\n",
    "    matrix_life_around = get_life_around_b(my_nodes, matrix_status)\n",
    "    for step in range(n_steps):\n",
    "        for i in range(0, len(matrix_status)):\n",
    "           for j in range(0, len(matrix_status)):\n",
    "                if matrix_status[i][j] == 1:\n",
    "                    if matrix_life_around[i][j] < 2 or matrix_life_around[i][j] > 3:\n",
    "                        matrix_status[i][j] = 0\n",
    "                else:\n",
    "                    if matrix_life_around[i][j] == 3:\n",
    "                        matrix_status[i][j] = 1\n",
    "        # Create a new matrix_life_around with the new matrix_status\n",
    "        matrix_life_around = get_life_around_b(my_nodes, matrix_status)\n",
    "        # Update the time of the nodes\n",
    "        new_nodes[:, 4] += 1\n",
    "    return matrix_status, matrix_life_around, new_nodes\n",
    "\n",
    "dynamic_system_b(nodes, 1)"
   ]
  }
 ],
 "metadata": {
  "kernelspec": {
   "display_name": "Python 3",
   "language": "python",
   "name": "python3"
  },
  "language_info": {
   "codemirror_mode": {
    "name": "ipython",
    "version": 3
   },
   "file_extension": ".py",
   "mimetype": "text/x-python",
   "name": "python",
   "nbconvert_exporter": "python",
   "pygments_lexer": "ipython3",
   "version": "3.10.2"
  }
 },
 "nbformat": 4,
 "nbformat_minor": 2
}
